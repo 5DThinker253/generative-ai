{
 "cells": [
  {
   "cell_type": "code",
   "execution_count": null,
   "metadata": {
    "id": "z3Gi-zdCeEbE"
   },
   "outputs": [],
   "source": [
    "# Copyright 2023 Google LLC\n",
    "#\n",
    "# Licensed under the Apache License, Version 2.0 (the \"License\");\n",
    "# you may not use this file except in compliance with the License.\n",
    "# You may obtain a copy of the License at\n",
    "#\n",
    "#     https://www.apache.org/licenses/LICENSE-2.0\n",
    "#\n",
    "# Unless required by applicable law or agreed to in writing, software\n",
    "# distributed under the License is distributed on an \"AS IS\" BASIS,\n",
    "# WITHOUT WARRANTIES OR CONDITIONS OF ANY KIND, either express or implied.\n",
    "# See the License for the specific language governing permissions and\n",
    "# limitations under the License.\n"
   ]
  },
  {
   "cell_type": "markdown",
   "metadata": {
    "id": "WcfbGhs1eJF6"
   },
   "source": [
    "# Document Q&A With Retrieval Augmented Generation\n",
    "\n",
    "<table align=\"left\">\n",
    "  <td style=\"text-align: center\">\n",
    "    <a href=\"https://colab.research.google.com/github/GoogleCloudPlatform/generative-ai/blob/main/search/custom-embeddings/custom_embeddings.ipynb\">\n",
    "      <img src=\"https://cloud.google.com/ml-engine/images/colab-logo-32px.png\" alt=\"Google Colaboratory logo\"><br> Run in Colab\n",
    "    </a>\n",
    "  </td>\n",
    "  <td style=\"text-align: center\">\n",
    "    <a href=\"https://github.com/GoogleCloudPlatform/generative-ai/blob/main/search/custom-embeddings/custom_embeddings.ipynb\">\n",
    "      <img src=\"https://cloud.google.com/ml-engine/images/github-logo-32px.png\" alt=\"GitHub logo\"><br> View on GitHub\n",
    "    </a>\n",
    "  </td>\n",
    "  <td style=\"text-align: center\">\n",
    "    <a href=\"https://console.cloud.google.com/vertex-ai/workbench/deploy-notebook?download_url=https://raw.githubusercontent.com/GoogleCloudPlatform/generative-ai/blob/main/search/custom-embeddings/custom_embeddings.ipynb\">\n",
    "      <img src=\"https://lh3.googleusercontent.com/UiNooY4LUgW_oTvpsNhPpQzsstV5W8F7rYgxgGBD85cWJoLmrOzhVs_ksK_vgx40SHs7jCqkTkCk=e14-rj-sc0xffffff-h130-w32\" alt=\"Vertex AI logo\"><br> Open in Vertex AI Workbench\n",
    "    </a>\n",
    "  </td>\n",
    "</table>"
   ]
  },
  {
   "cell_type": "markdown",
   "metadata": {
    "id": "ghQ2aBsbnMyn"
   },
   "source": [
    "---\n",
    "\n",
    "* Author: Holt Skinner\n",
    "\n",
    "---\n",
    "\n",
    "This notebook demonstrates how to:\n",
    "\n",
    "  - Get text embeddings using [`textembedding-gecko` in Vertex AI](https://cloud.google.com/vertex-ai/docs/generative-ai/embeddings/get-text-embeddings)\n",
    "  - Convert embeddings into the [format expected by Vertex AI Search](https://cloud.google.com/generative-ai-app-builder/docs/prepare-data#unstructured)\n",
    "  - [Create a search app with custom embeddings](https://cloud.google.com/generative-ai-app-builder/docs/bring-embeddings)\n",
    "\n"
   ]
  },
  {
   "cell_type": "markdown",
   "metadata": {
    "id": "DsW5tPDRkT4m"
   },
   "source": [
    "## Getting started"
   ]
  },
  {
   "cell_type": "markdown",
   "metadata": {
    "id": "jx1FQVAokWVb"
   },
   "source": [
    "### Install libraries"
   ]
  },
  {
   "cell_type": "code",
   "execution_count": 5,
   "metadata": {
    "id": "nJFw23w1kYVj"
   },
   "outputs": [
    {
     "name": "stdout",
     "output_type": "stream",
     "text": [
      "\n",
      "\u001b[1m[\u001b[0m\u001b[34;49mnotice\u001b[0m\u001b[1;39;49m]\u001b[0m\u001b[39;49m A new release of pip is available: \u001b[0m\u001b[31;49m23.2.1\u001b[0m\u001b[39;49m -> \u001b[0m\u001b[32;49m23.3.1\u001b[0m\n",
      "\u001b[1m[\u001b[0m\u001b[34;49mnotice\u001b[0m\u001b[1;39;49m]\u001b[0m\u001b[39;49m To update, run: \u001b[0m\u001b[32;49mpython3.11 -m pip install --upgrade pip\u001b[0m\n",
      "Note: you may need to restart the kernel to use updated packages.\n"
     ]
    }
   ],
   "source": [
    "%pip install -q --upgrade --user google-cloud-aiplatform google-cloud-discoveryengine google-cloud-storage 'google-cloud-bigquery[pandas]'\n"
   ]
  },
  {
   "cell_type": "markdown",
   "metadata": {},
   "source": [
    "---\n",
    "#### ⚠️ Do not forget to click the \"RESTART RUNTIME\" button above.\n",
    "---"
   ]
  },
  {
   "cell_type": "markdown",
   "metadata": {
    "id": "-jwsaMQYkZm8"
   },
   "source": [
    "### Authenticate your notebook environment (Colab only)\n",
    "\n",
    "If you are running this notebook on Google Colab, you will need to authenticate your environment. To do this, run the new cell below. This step is not required if you are using [Vertex AI Workbench](https://cloud.google.com/vertex-ai-workbench)."
   ]
  },
  {
   "cell_type": "code",
   "execution_count": null,
   "metadata": {
    "id": "ikOmH4doxOFs"
   },
   "outputs": [],
   "source": [
    "import sys\n",
    "\n",
    "if \"google.colab\" in sys.modules:\n",
    "    # Authenticate user to Google Cloud\n",
    "    from google.colab import auth\n",
    "\n",
    "    auth.authenticate_user()\n"
   ]
  },
  {
   "cell_type": "markdown",
   "metadata": {
    "id": "-h0ba4rmkpKW"
   },
   "source": [
    "### Import libraries"
   ]
  },
  {
   "cell_type": "code",
   "execution_count": 1,
   "metadata": {
    "id": "YLUml_s7iqBc"
   },
   "outputs": [
    {
     "name": "stderr",
     "output_type": "stream",
     "text": [
      "/Users/holtskinner/Library/Python/3.11/lib/python/site-packages/tqdm/auto.py:21: TqdmWarning: IProgress not found. Please update jupyter and ipywidgets. See https://ipywidgets.readthedocs.io/en/stable/user_install.html\n",
      "  from .autonotebook import tqdm as notebook_tqdm\n"
     ]
    }
   ],
   "source": [
    "import requests\n",
    "import itertools\n",
    "import numpy as np\n",
    "import pandas as pd\n",
    "import numpy.linalg\n",
    "import vertexai\n",
    "\n",
    "from google.api_core import retry\n",
    "from vertexai.language_models import TextEmbeddingModel\n",
    "from tqdm.auto import tqdm\n",
    "from bs4 import BeautifulSoup, Tag\n",
    "\n",
    "tqdm.pandas()\n"
   ]
  },
  {
   "cell_type": "markdown",
   "metadata": {},
   "source": [
    "## Configure notebook environment\n",
    "\n",
    "### Set the following constants to reflect your environment"
   ]
  },
  {
   "cell_type": "code",
   "execution_count": 2,
   "metadata": {},
   "outputs": [],
   "source": [
    "# Define project information for Vertex AI\n",
    "PROJECT_ID = \"[your-project-id]\"  # @param {type:\"string\"}\n",
    "PROJECT_ID = \"document-ai-test-337818\"\n",
    "LOCATION = \"us-central1\"  # @param {type:\"string\"}\n",
    "\n",
    "# Initialize Vertex AI SDK\n",
    "vertexai.init(project=PROJECT_ID, location=LOCATION)\n"
   ]
  },
  {
   "cell_type": "markdown",
   "metadata": {},
   "source": [
    "## Creating emeddings with Vertex \n",
    "\n",
    "### Data Preparation\n",
    "\n",
    "We will be using [the Stack Overflow public dataset](https://console.cloud.google.com/marketplace/product/stack-exchange/stack-overflow) hosted on BigQuery table `bigquery-public-data.stackoverflow.posts_questions`.\n",
    "\n",
    "This is a very big dataset with 23 million rows that doesn't fit into the memory. We are going to limit it to 1000 rows for this tutorial.\n",
    "\n",
    "- Fetch the data from BigQuery\n",
    "- Get the HTML from the StackOverflow Question page\n",
    "   - Upload it to GCS as the Document Store/for displayed search results\n",
    "- Concat the Title and Body, and create embeddings from the text.\n",
    "- Save the rest of the fields as Metadata\n",
    "- Create a JSONL file and upload to Cloud Storage\n",
    "- Import JSONL file as Unstructured with Metadata"
   ]
  },
  {
   "cell_type": "code",
   "execution_count": 3,
   "metadata": {},
   "outputs": [
    {
     "data": {
      "text/html": [
       "<div>\n",
       "<style scoped>\n",
       "    .dataframe tbody tr th:only-of-type {\n",
       "        vertical-align: middle;\n",
       "    }\n",
       "\n",
       "    .dataframe tbody tr th {\n",
       "        vertical-align: top;\n",
       "    }\n",
       "\n",
       "    .dataframe thead th {\n",
       "        text-align: right;\n",
       "    }\n",
       "</style>\n",
       "<table border=\"1\" class=\"dataframe\">\n",
       "  <thead>\n",
       "    <tr style=\"text-align: right;\">\n",
       "      <th></th>\n",
       "      <th>id</th>\n",
       "      <th>title</th>\n",
       "      <th>body</th>\n",
       "      <th>answer_count</th>\n",
       "      <th>comment_count</th>\n",
       "      <th>creation_date</th>\n",
       "      <th>favorite_count</th>\n",
       "      <th>last_activity_date</th>\n",
       "      <th>score</th>\n",
       "      <th>tags</th>\n",
       "      <th>view_count</th>\n",
       "    </tr>\n",
       "  </thead>\n",
       "  <tbody>\n",
       "    <tr>\n",
       "      <th>0</th>\n",
       "      <td>927358</td>\n",
       "      <td>How do I undo the most recent local commits in...</td>\n",
       "      <td>&lt;p&gt;I accidentally committed the wrong files to...</td>\n",
       "      <td>100</td>\n",
       "      <td>12</td>\n",
       "      <td>2009-05-29 18:09:14.627000+00:00</td>\n",
       "      <td>7666</td>\n",
       "      <td>2022-09-09 08:13:22.747000+00:00</td>\n",
       "      <td>24809</td>\n",
       "      <td>git|version-control|git-commit|undo</td>\n",
       "      <td>11649204</td>\n",
       "    </tr>\n",
       "    <tr>\n",
       "      <th>1</th>\n",
       "      <td>5767325</td>\n",
       "      <td>How can I remove a specific item from an array?</td>\n",
       "      <td>&lt;p&gt;How do I remove a specific value from an ar...</td>\n",
       "      <td>137</td>\n",
       "      <td>7</td>\n",
       "      <td>2011-04-23 22:17:18.487000+00:00</td>\n",
       "      <td>1631</td>\n",
       "      <td>2022-09-16 16:24:04.310000+00:00</td>\n",
       "      <td>10953</td>\n",
       "      <td>javascript|arrays</td>\n",
       "      <td>10493798</td>\n",
       "    </tr>\n",
       "    <tr>\n",
       "      <th>2</th>\n",
       "      <td>2003505</td>\n",
       "      <td>How do I delete a Git branch locally and remot...</td>\n",
       "      <td>&lt;h4&gt;Failed Attempts to Delete a Remote Branch:...</td>\n",
       "      <td>42</td>\n",
       "      <td>10</td>\n",
       "      <td>2010-01-05 01:12:15.867000+00:00</td>\n",
       "      <td>5953</td>\n",
       "      <td>2022-09-20 09:16:37.687000+00:00</td>\n",
       "      <td>19556</td>\n",
       "      <td>git|version-control|git-branch|git-push|git-re...</td>\n",
       "      <td>10278934</td>\n",
       "    </tr>\n",
       "    <tr>\n",
       "      <th>3</th>\n",
       "      <td>16956810</td>\n",
       "      <td>How to find all files containing specific text...</td>\n",
       "      <td>&lt;p&gt;How do I find all files containing a specif...</td>\n",
       "      <td>53</td>\n",
       "      <td>9</td>\n",
       "      <td>2013-06-06 08:06:45.533000+00:00</td>\n",
       "      <td>3270</td>\n",
       "      <td>2022-09-04 13:42:00.477000+00:00</td>\n",
       "      <td>6894</td>\n",
       "      <td>linux|text|grep|directory|find</td>\n",
       "      <td>9378947</td>\n",
       "    </tr>\n",
       "    <tr>\n",
       "      <th>4</th>\n",
       "      <td>4114095</td>\n",
       "      <td>How do I revert a Git repository to a previous...</td>\n",
       "      <td>&lt;p&gt;How do I revert from my current state to a ...</td>\n",
       "      <td>41</td>\n",
       "      <td>3</td>\n",
       "      <td>2010-11-06 16:58:14.550000+00:00</td>\n",
       "      <td>4116</td>\n",
       "      <td>2022-09-02 06:25:46.480000+00:00</td>\n",
       "      <td>7617</td>\n",
       "      <td>git|git-checkout|git-reset|git-revert</td>\n",
       "      <td>8956751</td>\n",
       "    </tr>\n",
       "  </tbody>\n",
       "</table>\n",
       "</div>"
      ],
      "text/plain": [
       "         id                                              title  \\\n",
       "0    927358  How do I undo the most recent local commits in...   \n",
       "1   5767325    How can I remove a specific item from an array?   \n",
       "2   2003505  How do I delete a Git branch locally and remot...   \n",
       "3  16956810  How to find all files containing specific text...   \n",
       "4   4114095  How do I revert a Git repository to a previous...   \n",
       "\n",
       "                                                body  answer_count  \\\n",
       "0  <p>I accidentally committed the wrong files to...           100   \n",
       "1  <p>How do I remove a specific value from an ar...           137   \n",
       "2  <h4>Failed Attempts to Delete a Remote Branch:...            42   \n",
       "3  <p>How do I find all files containing a specif...            53   \n",
       "4  <p>How do I revert from my current state to a ...            41   \n",
       "\n",
       "   comment_count                    creation_date  favorite_count  \\\n",
       "0             12 2009-05-29 18:09:14.627000+00:00            7666   \n",
       "1              7 2011-04-23 22:17:18.487000+00:00            1631   \n",
       "2             10 2010-01-05 01:12:15.867000+00:00            5953   \n",
       "3              9 2013-06-06 08:06:45.533000+00:00            3270   \n",
       "4              3 2010-11-06 16:58:14.550000+00:00            4116   \n",
       "\n",
       "                last_activity_date  score  \\\n",
       "0 2022-09-09 08:13:22.747000+00:00  24809   \n",
       "1 2022-09-16 16:24:04.310000+00:00  10953   \n",
       "2 2022-09-20 09:16:37.687000+00:00  19556   \n",
       "3 2022-09-04 13:42:00.477000+00:00   6894   \n",
       "4 2022-09-02 06:25:46.480000+00:00   7617   \n",
       "\n",
       "                                                tags  view_count  \n",
       "0                git|version-control|git-commit|undo    11649204  \n",
       "1                                  javascript|arrays    10493798  \n",
       "2  git|version-control|git-branch|git-push|git-re...    10278934  \n",
       "3                     linux|text|grep|directory|find     9378947  \n",
       "4              git|git-checkout|git-reset|git-revert     8956751  "
      ]
     },
     "execution_count": 3,
     "metadata": {},
     "output_type": "execute_result"
    }
   ],
   "source": [
    "# load the BQ Table into a Pandas Dataframe\n",
    "import pandas as pd\n",
    "from google.cloud import bigquery\n",
    "\n",
    "QUESTIONS_SIZE = 1000\n",
    "\n",
    "bq_client = bigquery.Client(project=PROJECT_ID)\n",
    "query = f\"\"\"\n",
    "SELECT\n",
    "  DISTINCT \n",
    "  q.id,\n",
    "  q.title,\n",
    "  q.body,\n",
    "  q.answer_count,\n",
    "  q.comment_count,\n",
    "  q.creation_date,\n",
    "  q.favorite_count,\n",
    "  q.last_activity_date,\n",
    "  q.score,\n",
    "  q.tags,\n",
    "  q.view_count\n",
    "FROM\n",
    "  `bigquery-public-data.stackoverflow.posts_questions` AS q\n",
    "WHERE\n",
    "  q.score > 0\n",
    "ORDER BY\n",
    "  q.view_count DESC\n",
    "LIMIT\n",
    "  {QUESTIONS_SIZE};\n",
    "\"\"\"\n",
    "\n",
    "query_job = bq_client.query(query)\n",
    "rows = query_job.result()\n",
    "df = rows.to_dataframe()\n",
    "\n",
    "# examine the data\n",
    "df.head()\n"
   ]
  },
  {
   "cell_type": "markdown",
   "metadata": {},
   "source": [
    "### Call the API to generate embeddings\n",
    "\n",
    "With the Stack Overflow dataset, we will use the `title` column (the question title) and generate embedding for it with Embeddings for Text API. The API is available under the [`vertexai`](https://cloud.google.com/python/docs/reference/aiplatform/latest/vertexai) package of the SDK.\n",
    "\n",
    "You may see some warning messages from the TensorFlow library but you can ignore them."
   ]
  },
  {
   "cell_type": "markdown",
   "metadata": {},
   "source": [
    "From the package, import [`TextEmbeddingModel`](https://cloud.google.com/python/docs/reference/aiplatform/latest/vertexai.language_models.TextEmbeddingModel) and get a model."
   ]
  },
  {
   "cell_type": "code",
   "execution_count": 4,
   "metadata": {},
   "outputs": [],
   "source": [
    "# Load the text embeddings model\n",
    "from vertexai.preview.language_models import TextEmbeddingModel, TextEmbeddingInput\n",
    "\n",
    "model = TextEmbeddingModel.from_pretrained(\"textembedding-gecko@002\")\n"
   ]
  },
  {
   "cell_type": "code",
   "execution_count": 13,
   "metadata": {},
   "outputs": [],
   "source": [
    "import time\n",
    "from tqdm import tqdm # to show a progress bar\n",
    "\n",
    "# get embeddings for a list of texts\n",
    "BATCH_SIZE = 10\n",
    "\n",
    "\n",
    "# def get_embeddings_wrapper(texts):\n",
    "#     return [\n",
    "#         e.values\n",
    "#         for i in tqdm(\n",
    "#             range(0, len(texts), BATCH_SIZE),\n",
    "#             desc=\"Processing batches\"\n",
    "        )\n",
    "#         # Create embeddings optimized for document retrieval\n",
    "#         # (supported in textembedding-gecko@002)\n",
    "#         for e in model.get_embeddings([\n",
    "#             TextEmbeddingInput(text=text, task_type=\"RETRIEVAL_DOCUMENT\")\n",
    "#             for text in texts[i:i + BATCH_SIZE]\n",
    "#         ])\n",
    "#     ]\n",
    "\n",
    "def get_embeddings_wrapper(texts):\n",
    "    embs = []\n",
    "    for i in tqdm(range(0, len(texts), BATCH_SIZE)):\n",
    "        time.sleep(1) # to avoid the quota error\n",
    "\n",
    "        # Create embeddings optimized for document retrieval\n",
    "        # (supported in textembedding-gecko@002)\n",
    "        result = model.get_embeddings(\n",
    "            [\n",
    "                TextEmbeddingInput(text=text, task_type=\"RETRIEVAL_DOCUMENT\")\n",
    "                for text in texts[i : i + BATCH_SIZE]\n",
    "            ]\n",
    "        )\n",
    "        embs.extend([e.values for e in result])\n",
    "    return embs\n"
   ]
  },
  {
   "cell_type": "markdown",
   "metadata": {},
   "source": [
    "Get embeddings for the question titles/body and add them as the `\"embedding\"` column."
   ]
  },
  {
   "cell_type": "code",
   "execution_count": 14,
   "metadata": {},
   "outputs": [
    {
     "name": "stderr",
     "output_type": "stream",
     "text": [
      "100%|██████████| 100/100 [02:06<00:00,  1.26s/it]\n"
     ]
    },
    {
     "data": {
      "text/html": [
       "<div>\n",
       "<style scoped>\n",
       "    .dataframe tbody tr th:only-of-type {\n",
       "        vertical-align: middle;\n",
       "    }\n",
       "\n",
       "    .dataframe tbody tr th {\n",
       "        vertical-align: top;\n",
       "    }\n",
       "\n",
       "    .dataframe thead th {\n",
       "        text-align: right;\n",
       "    }\n",
       "</style>\n",
       "<table border=\"1\" class=\"dataframe\">\n",
       "  <thead>\n",
       "    <tr style=\"text-align: right;\">\n",
       "      <th></th>\n",
       "      <th>id</th>\n",
       "      <th>title</th>\n",
       "      <th>body</th>\n",
       "      <th>answer_count</th>\n",
       "      <th>comment_count</th>\n",
       "      <th>creation_date</th>\n",
       "      <th>favorite_count</th>\n",
       "      <th>last_activity_date</th>\n",
       "      <th>score</th>\n",
       "      <th>tags</th>\n",
       "      <th>view_count</th>\n",
       "      <th>title_body</th>\n",
       "      <th>embedding</th>\n",
       "    </tr>\n",
       "  </thead>\n",
       "  <tbody>\n",
       "    <tr>\n",
       "      <th>0</th>\n",
       "      <td>927358</td>\n",
       "      <td>How do I undo the most recent local commits in...</td>\n",
       "      <td>&lt;p&gt;I accidentally committed the wrong files to...</td>\n",
       "      <td>100</td>\n",
       "      <td>12</td>\n",
       "      <td>2009-05-29 18:09:14.627000+00:00</td>\n",
       "      <td>7666</td>\n",
       "      <td>2022-09-09 08:13:22.747000+00:00</td>\n",
       "      <td>24809</td>\n",
       "      <td>git|version-control|git-commit|undo</td>\n",
       "      <td>11649204</td>\n",
       "      <td>How do I undo the most recent local commits in...</td>\n",
       "      <td>[0.0137466536834836, 2.998062200276763e-06, 0....</td>\n",
       "    </tr>\n",
       "    <tr>\n",
       "      <th>1</th>\n",
       "      <td>5767325</td>\n",
       "      <td>How can I remove a specific item from an array?</td>\n",
       "      <td>&lt;p&gt;How do I remove a specific value from an ar...</td>\n",
       "      <td>137</td>\n",
       "      <td>7</td>\n",
       "      <td>2011-04-23 22:17:18.487000+00:00</td>\n",
       "      <td>1631</td>\n",
       "      <td>2022-09-16 16:24:04.310000+00:00</td>\n",
       "      <td>10953</td>\n",
       "      <td>javascript|arrays</td>\n",
       "      <td>10493798</td>\n",
       "      <td>How can I remove a specific item from an array...</td>\n",
       "      <td>[-0.01670827530324459, -0.0213627852499485, 0....</td>\n",
       "    </tr>\n",
       "    <tr>\n",
       "      <th>2</th>\n",
       "      <td>2003505</td>\n",
       "      <td>How do I delete a Git branch locally and remot...</td>\n",
       "      <td>&lt;h4&gt;Failed Attempts to Delete a Remote Branch:...</td>\n",
       "      <td>42</td>\n",
       "      <td>10</td>\n",
       "      <td>2010-01-05 01:12:15.867000+00:00</td>\n",
       "      <td>5953</td>\n",
       "      <td>2022-09-20 09:16:37.687000+00:00</td>\n",
       "      <td>19556</td>\n",
       "      <td>git|version-control|git-branch|git-push|git-re...</td>\n",
       "      <td>10278934</td>\n",
       "      <td>How do I delete a Git branch locally and remot...</td>\n",
       "      <td>[-0.015323596075177193, -0.013528505340218544,...</td>\n",
       "    </tr>\n",
       "    <tr>\n",
       "      <th>3</th>\n",
       "      <td>16956810</td>\n",
       "      <td>How to find all files containing specific text...</td>\n",
       "      <td>&lt;p&gt;How do I find all files containing a specif...</td>\n",
       "      <td>53</td>\n",
       "      <td>9</td>\n",
       "      <td>2013-06-06 08:06:45.533000+00:00</td>\n",
       "      <td>3270</td>\n",
       "      <td>2022-09-04 13:42:00.477000+00:00</td>\n",
       "      <td>6894</td>\n",
       "      <td>linux|text|grep|directory|find</td>\n",
       "      <td>9378947</td>\n",
       "      <td>How to find all files containing specific text...</td>\n",
       "      <td>[-0.015853306278586388, -0.0010032434947788715...</td>\n",
       "    </tr>\n",
       "    <tr>\n",
       "      <th>4</th>\n",
       "      <td>4114095</td>\n",
       "      <td>How do I revert a Git repository to a previous...</td>\n",
       "      <td>&lt;p&gt;How do I revert from my current state to a ...</td>\n",
       "      <td>41</td>\n",
       "      <td>3</td>\n",
       "      <td>2010-11-06 16:58:14.550000+00:00</td>\n",
       "      <td>4116</td>\n",
       "      <td>2022-09-02 06:25:46.480000+00:00</td>\n",
       "      <td>7617</td>\n",
       "      <td>git|git-checkout|git-reset|git-revert</td>\n",
       "      <td>8956751</td>\n",
       "      <td>How do I revert a Git repository to a previous...</td>\n",
       "      <td>[0.003642600728198886, -0.005185546353459358, ...</td>\n",
       "    </tr>\n",
       "  </tbody>\n",
       "</table>\n",
       "</div>"
      ],
      "text/plain": [
       "         id                                              title  \\\n",
       "0    927358  How do I undo the most recent local commits in...   \n",
       "1   5767325    How can I remove a specific item from an array?   \n",
       "2   2003505  How do I delete a Git branch locally and remot...   \n",
       "3  16956810  How to find all files containing specific text...   \n",
       "4   4114095  How do I revert a Git repository to a previous...   \n",
       "\n",
       "                                                body  answer_count  \\\n",
       "0  <p>I accidentally committed the wrong files to...           100   \n",
       "1  <p>How do I remove a specific value from an ar...           137   \n",
       "2  <h4>Failed Attempts to Delete a Remote Branch:...            42   \n",
       "3  <p>How do I find all files containing a specif...            53   \n",
       "4  <p>How do I revert from my current state to a ...            41   \n",
       "\n",
       "   comment_count                    creation_date  favorite_count  \\\n",
       "0             12 2009-05-29 18:09:14.627000+00:00            7666   \n",
       "1              7 2011-04-23 22:17:18.487000+00:00            1631   \n",
       "2             10 2010-01-05 01:12:15.867000+00:00            5953   \n",
       "3              9 2013-06-06 08:06:45.533000+00:00            3270   \n",
       "4              3 2010-11-06 16:58:14.550000+00:00            4116   \n",
       "\n",
       "                last_activity_date  score  \\\n",
       "0 2022-09-09 08:13:22.747000+00:00  24809   \n",
       "1 2022-09-16 16:24:04.310000+00:00  10953   \n",
       "2 2022-09-20 09:16:37.687000+00:00  19556   \n",
       "3 2022-09-04 13:42:00.477000+00:00   6894   \n",
       "4 2022-09-02 06:25:46.480000+00:00   7617   \n",
       "\n",
       "                                                tags  view_count  \\\n",
       "0                git|version-control|git-commit|undo    11649204   \n",
       "1                                  javascript|arrays    10493798   \n",
       "2  git|version-control|git-branch|git-push|git-re...    10278934   \n",
       "3                     linux|text|grep|directory|find     9378947   \n",
       "4              git|git-checkout|git-reset|git-revert     8956751   \n",
       "\n",
       "                                          title_body  \\\n",
       "0  How do I undo the most recent local commits in...   \n",
       "1  How can I remove a specific item from an array...   \n",
       "2  How do I delete a Git branch locally and remot...   \n",
       "3  How to find all files containing specific text...   \n",
       "4  How do I revert a Git repository to a previous...   \n",
       "\n",
       "                                           embedding  \n",
       "0  [0.0137466536834836, 2.998062200276763e-06, 0....  \n",
       "1  [-0.01670827530324459, -0.0213627852499485, 0....  \n",
       "2  [-0.015323596075177193, -0.013528505340218544,...  \n",
       "3  [-0.015853306278586388, -0.0010032434947788715...  \n",
       "4  [0.003642600728198886, -0.005185546353459358, ...  "
      ]
     },
     "execution_count": 14,
     "metadata": {},
     "output_type": "execute_result"
    }
   ],
   "source": [
    "df[\"title_body\"] = df[\"title\"] + \"\\n\" + df[\"body\"]\n",
    "\n",
    "df = df.assign(embedding=get_embeddings_wrapper(df.title_body))\n",
    "df.head()\n"
   ]
  },
  {
   "cell_type": "markdown",
   "metadata": {
    "id": "TKBmi2BMk_OU"
   },
   "source": [
    "## Scrape HTML from Question Pages\n",
    "\n",
    "- Grab HTML to upload to Cloud Storage"
   ]
  },
  {
   "cell_type": "code",
   "execution_count": 53,
   "metadata": {
    "id": "tXHmC10IitET"
   },
   "outputs": [],
   "source": [
    "QUESTION_BASE_URL = \"https://stackoverflow.com/questions/\"\n",
    "JSONL_MIME_TYPE = \"application/jsonl\"\n",
    "HTML_MIME_TYPE = \"text/html\"\n",
    "\n",
    "BUCKET_NAME = \"ucs-demo\"\n",
    "DIRECTORY = \"embeddings-stackoverflow\"\n",
    "BLOB_PREFIX = f\"{DIRECTORY}/html\"\n",
    "\n",
    "GCS_URI_PREFIX = f\"gs://{BUCKET_NAME}/{BLOB_PREFIX}/\"\n",
    "\n",
    "from google.cloud import storage\n",
    "\n",
    "storage_client = storage.Client()\n",
    "bucket = storage_client.bucket(BUCKET_NAME)\n",
    "\n",
    "def scrape_question(ids_):\n",
    "    for id_ in ids_:\n",
    "        question_url = f\"{QUESTION_BASE_URL}{id_}\"\n",
    "        response = requests.get(question_url)\n",
    "        if response.status_code == 200 and response.content:\n",
    "            print(\"scraping\")\n",
    "            content = response.content\n",
    "            link_title = response.url.split(\"/\")[-1] + \"html\"\n",
    "            gcs_uri = f\"{GCS_URI_PREFIX}{link_title}\"\n",
    "            # Upload HTML to Google Cloud Storage\n",
    "            blob = bucket.blob(f\"{BLOB_PREFIX}{link_title}\")\n",
    "            blob.upload_from_string(content)\n",
    "            return gcs_uri\n"
   ]
  },
  {
   "cell_type": "markdown",
   "metadata": {},
   "source": [
    "Restructure the embeddings data to follow Vertex AI Search format (Unstructured with Metadata)"
   ]
  },
  {
   "cell_type": "code",
   "execution_count": 54,
   "metadata": {},
   "outputs": [
    {
     "name": "stdout",
     "output_type": "stream",
     "text": [
      "scraping\n"
     ]
    }
   ],
   "source": [
    "\n",
    "df = df.assign(uri=scrape_question(df.id))\n",
    "\n",
    "# {\n",
    "#     \"id\": id_,\n",
    "#     \"content\": {\n",
    "#         \"mimeType\": \"text/html\",\n",
    "#         \"uri\": uri\n",
    "#     },\n",
    "#     \"structData\": {\n",
    "#         \"embedding_vector\": embedding,\n",
    "#         \"title\": title,\n",
    "#         \"body\": body,\n",
    "#         \"answer_count\": answer_count\n",
    "#     },\n",
    "# }\n"
   ]
  },
  {
   "cell_type": "code",
   "execution_count": 56,
   "metadata": {},
   "outputs": [
    {
     "data": {
      "text/plain": [
       "0      gs://ucs-demo/embeddings-stackoverflow/html/ho...\n",
       "1      gs://ucs-demo/embeddings-stackoverflow/html/ho...\n",
       "2      gs://ucs-demo/embeddings-stackoverflow/html/ho...\n",
       "3      gs://ucs-demo/embeddings-stackoverflow/html/ho...\n",
       "4      gs://ucs-demo/embeddings-stackoverflow/html/ho...\n",
       "                             ...                        \n",
       "995    gs://ucs-demo/embeddings-stackoverflow/html/ho...\n",
       "996    gs://ucs-demo/embeddings-stackoverflow/html/ho...\n",
       "997    gs://ucs-demo/embeddings-stackoverflow/html/ho...\n",
       "998    gs://ucs-demo/embeddings-stackoverflow/html/ho...\n",
       "999    gs://ucs-demo/embeddings-stackoverflow/html/ho...\n",
       "Name: uri, Length: 1000, dtype: object"
      ]
     },
     "execution_count": 56,
     "metadata": {},
     "output_type": "execute_result"
    }
   ],
   "source": [
    "df[\"uri\"]\n"
   ]
  },
  {
   "cell_type": "code",
   "execution_count": null,
   "metadata": {},
   "outputs": [],
   "source": []
  }
 ],
 "metadata": {
  "colab": {
   "provenance": []
  },
  "kernelspec": {
   "display_name": "Python 3",
   "name": "python3"
  },
  "language_info": {
   "codemirror_mode": {
    "name": "ipython",
    "version": 3
   },
   "file_extension": ".py",
   "mimetype": "text/x-python",
   "name": "python",
   "nbconvert_exporter": "python",
   "pygments_lexer": "ipython3",
   "version": "3.11.5"
  }
 },
 "nbformat": 4,
 "nbformat_minor": 0
}
